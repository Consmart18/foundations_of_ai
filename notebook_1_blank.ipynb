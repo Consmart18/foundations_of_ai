{
 "cells": [
  {
   "cell_type": "markdown",
   "metadata": {},
   "source": [
    "# Submission by Jamiu Idowu\n",
    "\n",
    "## Introduction\n",
    "\n",
    "This notebook is intended as an example piece of coursework.\n",
    "\n",
    "Students will fill in the code sections.\n",
    "\n",
    "### Installation/Requirements\n",
    "\n",
    "This example is written using Python 3.9 with requirements listed in the requirements.txt file. Requirements can be installed using\n",
    "\n",
    "```pip install -r requirements.txt```\n",
    "\n",
    "Or can be installed manually.\n",
    "\n",
    "### Marking\n",
    "\n",
    "Work will be marked as a holistic whole and students may be asked to explain parts of their code,\n",
    "but it should be possible to understand the code by reading it alone e.g. by including comments where relevant.\n",
    "\n",
    "Understanding can be demonstrated by producing relevant figures/metrics or by writing comments in code or markdown cells.\n",
    "\n",
    "### Hints\n",
    "\n",
    " - Use of the scikit-learn package is encouraged but not required. Their documentation is extremely clear.\n",
    "\n",
    " - external packages will make the implementation of algorithms in code 'simple' but you should still demonstrate that the model outputs\n",
    "make sense in the context of the course content e.g. by ensuring that parameters are defined.\n",
    "\n",
    " - Often later questions will build on earlier parts. It may be helpful to write the supporting code in functions and/or classes so that they can be reused.\n",
    "\n",
    " - The notebook is expected to produce its outputs by 'run all cells'\n",
    "\n",
    "\n"
   ]
  },
  {
   "cell_type": "markdown",
   "metadata": {},
   "source": [
    "## Expressivity vs generalisation\n",
    "\n",
    "This coursework is designed to practically explore the content given in the lectures in week 2."
   ]
  },
  {
   "cell_type": "markdown",
   "metadata": {},
   "source": [
    "### Data"
   ]
  },
  {
   "cell_type": "code",
   "execution_count": 1,
   "metadata": {},
   "outputs": [],
   "source": [
    "#DO NOT CHANGE THIS CODE\n",
    "import numpy as np\n",
    "import matplotlib.pyplot as plt\n",
    "X_train=np.loadtxt('./data/X_train_linear.txt')\n",
    "X_test=np.loadtxt('./data/X_test_linear.txt')\n",
    "y_train=np.loadtxt('./data/y_train_linear.txt')\n",
    "y_test=np.loadtxt('./data/y_test_linear.txt')"
   ]
  },
  {
   "cell_type": "markdown",
   "metadata": {},
   "source": [
    "### 1) Linear Regression\n",
    "#### a) estimate w and b using linear regression based on the training data (X_train, y_train)"
   ]
  },
  {
   "cell_type": "code",
   "execution_count": 29,
   "metadata": {},
   "outputs": [
    {
     "name": "stdout",
     "output_type": "stream",
     "text": [
      "Weight w is 0.02637\n",
      "Intercept b is -0.001\n"
     ]
    }
   ],
   "source": [
    "#YOUR CODE HERE\n",
    "\n",
    "from sklearn.linear_model import LinearRegression\n",
    "\n",
    "reg = LinearRegression().fit(X_train, y_train)\n",
    "\n",
    "print(f\"Weight w is {reg.coef_[0]:.5f}\")\n",
    "print(f\"Intercept b is {reg.intercept_:.3f}\")"
   ]
  },
  {
   "cell_type": "markdown",
   "metadata": {},
   "source": [
    "#### b) calculate the mean squared error for the training data and test data"
   ]
  },
  {
   "cell_type": "code",
   "execution_count": 42,
   "metadata": {},
   "outputs": [
    {
     "name": "stdout",
     "output_type": "stream",
     "text": [
      "The mean squared error of the training data is 0.000164\n",
      "The mean squared error of the test data is 0.000276\n"
     ]
    }
   ],
   "source": [
    "#YOUR CODE HERE\n",
    "\n",
    "from sklearn.metrics import mean_squared_error\n",
    "\n",
    "predicted_value = linear_regression.predict(X_train)\n",
    "train_error = mean_squared_error(y_train, predicted_value)\n",
    "\n",
    "predicted_value1 = linear_regression.predict(X_test)\n",
    "test_error = mean_squared_error(y_test, predicted_value1)\n",
    "\n",
    "print(f\"The mean squared error of the training data is {train_error:.6f}\")\n",
    "print(f\"The mean squared error of the test data is {test_error:.6f}\")"
   ]
  },
  {
   "cell_type": "markdown",
   "metadata": {},
   "source": [
    "### 2) Exploring the effects of dimensionality\n",
    "#### a) Using different sized subsets of the training data, repeat (1) and illustrate the trends of training error and test error as the sample size is increased\n"
   ]
  },
  {
   "cell_type": "code",
   "execution_count": 55,
   "metadata": {},
   "outputs": [
    {
     "data": {
      "image/png": "[encoded data removed]",
      "text/plain": [
       "<Figure size 432x288 with 1 Axes>"
      ]
     },
     "metadata": {
      "needs_background": "light"
     },
     "output_type": "display_data"
    }
   ],
   "source": [
    "#YOUR CODE HERE\n",
    "\n",
    "from sklearn.datasets import make_classification\n",
    "from sklearn.model_selection import train_test_split\n",
    "from sklearn.metrics import accuracy_score\n",
    "from sklearn.tree import DecisionTreeClassifier\n",
    "\n",
    "# create dataset\n",
    "X, y = make_classification(n_samples=10000, n_features=20, n_informative=5, n_redundant=15, random_state=1)\n",
    "# split into train test sets\n",
    "X_train, X_test, y_train, y_test = train_test_split(X, y, test_size=0.3)\n",
    "# define lists to collect scores\n",
    "train_scores, test_scores = list(), list()\n",
    "# define the tree depths to evaluate\n",
    "values = [i for i in range(1, 21)]\n",
    "# evaluate a decision tree for each depth\n",
    "for i in values:\n",
    "    # configure the model\n",
    "    model = DecisionTreeClassifier(max_depth=i)\n",
    "    # fit model on the training dataset\n",
    "    model.fit(X_train, y_train)\n",
    "    # evaluate on the train dataset\n",
    "    train_yhat = model.predict(X_train)\n",
    "    train_acc = accuracy_score(y_train, train_yhat)\n",
    "    train_scores.append(train_acc)\n",
    "    # evaluate on the test dataset\n",
    "    test_yhat = model.predict(X_test)\n",
    "    test_acc = accuracy_score(y_test, test_yhat)\n",
    "    test_scores.append(test_acc)\n",
    "\n",
    "# plot of train and test scores vs tree depth\n",
    "pyplot.plot(values, train_scores, '-o', label='Train')\n",
    "pyplot.plot(values, test_scores, '-o', label='Test')\n",
    "pyplot.legend()\n",
    "pyplot.show()"
   ]
  },
  {
   "cell_type": "markdown",
   "metadata": {},
   "source": [
    "### 3) Regularisation"
   ]
  },
  {
   "cell_type": "markdown",
   "metadata": {},
   "source": [
    "#### a) Using a suitable plot, demonstrate the effect of ridge regeularisation on the train and test error"
   ]
  },
  {
   "cell_type": "code",
   "execution_count": 60,
   "metadata": {},
   "outputs": [
    {
     "data": {
      "image/png": "[encoded data removed]",
      "text/plain": [
       "<Figure size 432x288 with 1 Axes>"
      ]
     },
     "metadata": {
      "needs_background": "light"
     },
     "output_type": "display_data"
    }
   ],
   "source": [
    "#YOUR CODE HERE\n",
    "\n",
    "from sklearn.linear_model import Ridge\n",
    "from sklearn.metrics import mean_squared_error\n",
    "\n",
    "lambdas = np.arange(0, 10, 0.1)\n",
    "err_train = []\n",
    "err_test = []\n",
    "for lam in lambdas:\n",
    "    # create model\n",
    "    model = Ridge(alpha=lam)\n",
    "    # calculate beta using train\n",
    "    model.fit(X_train, y_train)\n",
    "    err_test.append(mean_squared_error(model.predict(X_test), y_test))\n",
    "    err_train.append(mean_squared_error(model.predict(X_train), y_train))\n",
    "plt.plot(lambdas, err_test, label=\"Testing Error\")\n",
    "plt.plot(lambdas, err_train, label=\"Training Error\")\n",
    "plt.legend()\n",
    "plt.xlabel(\"Lambda\")\n",
    "plt.ylabel(\"MSE\")\n",
    "plt.suptitle(\"Testing vs Training Error Various Lambda Values\")\n",
    "plt.show()"
   ]
  },
  {
   "cell_type": "markdown",
   "metadata": {},
   "source": [
    "#### b) Using a suitable metric or plot, demonstrate the effect of ridge regularisation on the estimated weights"
   ]
  },
  {
   "cell_type": "code",
   "execution_count": 24,
   "metadata": {},
   "outputs": [],
   "source": [
    "#YOUR CODE HERE"
   ]
  },
  {
   "cell_type": "markdown",
   "metadata": {},
   "source": [
    "## 4) Kernel Regression"
   ]
  },
  {
   "cell_type": "markdown",
   "metadata": {},
   "source": [
    "### a) Demonstrate the equivalence of Ridge and Kernel Ridge Regression when using a linear kernel"
   ]
  },
  {
   "cell_type": "code",
   "execution_count": 25,
   "metadata": {},
   "outputs": [],
   "source": [
    "#YOUR CODE HERE"
   ]
  },
  {
   "cell_type": "markdown",
   "metadata": {},
   "source": [
    "### b) Construct the feature space represented by a polynomial kernel with degree 2 and demonstrate that for small values of ridge regularisation, the predictions of ridge regression with the explicit feature space and kernel ridge regression with the kernel representation are the same (or similar)"
   ]
  },
  {
   "cell_type": "code",
   "execution_count": 26,
   "metadata": {},
   "outputs": [],
   "source": [
    "#YOUR CODE HERE"
   ]
  },
  {
   "cell_type": "markdown",
   "metadata": {},
   "source": [
    "### c) Using the following data plot the train and test error for kernel ridge regression with polynomial kernel of different degrees"
   ]
  },
  {
   "cell_type": "code",
   "execution_count": 27,
   "metadata": {},
   "outputs": [],
   "source": [
    "#DO NOT CHANGE THIS CODE\n",
    "X_train=np.loadtxt('./data/X_train_poly.txt')\n",
    "X_test=np.loadtxt('./data/X_test_poly.txt')\n",
    "y_train=np.loadtxt('./data/y_train_poly.txt')\n",
    "y_test=np.loadtxt('./data/y_test_poly.txt')"
   ]
  },
  {
   "cell_type": "code",
   "execution_count": 28,
   "metadata": {},
   "outputs": [],
   "source": [
    "#YOUR CODE HERE"
   ]
  },
  {
   "cell_type": "markdown",
   "metadata": {},
   "source": [
    "### d) Repeat 3a) for a polynomial kernel with degree of your choice"
   ]
  },
  {
   "cell_type": "code",
   "execution_count": 29,
   "metadata": {},
   "outputs": [],
   "source": [
    "#YOUR CODE HERE"
   ]
  },
  {
   "cell_type": "markdown",
   "metadata": {},
   "source": [
    "### e) Using the following data compare the performance of kernel ridge regression with rbf kernel and polynomial kernel"
   ]
  },
  {
   "cell_type": "code",
   "execution_count": 30,
   "metadata": {},
   "outputs": [],
   "source": [
    "#DO NOT CHANGE THIS CODE\n",
    "X_train=np.loadtxt('./data/X_train_nonlinear.txt')\n",
    "X_test=np.loadtxt('./data/X_test_nonlinear.txt')\n",
    "y_train=np.loadtxt('./data/y_train_nonlinear.txt')\n",
    "y_test=np.loadtxt('./data/y_test_nonlinear.txt')"
   ]
  },
  {
   "cell_type": "code",
   "execution_count": 31,
   "metadata": {},
   "outputs": [],
   "source": [
    "#YOUR CODE HERE"
   ]
  }
 ],
 "metadata": {
  "kernelspec": {
   "display_name": "Python 3 (ipykernel)",
   "language": "python",
   "name": "python3"
  },
  "language_info": {
   "codemirror_mode": {
    "name": "ipython",
    "version": 3
   },
   "file_extension": ".py",
   "mimetype": "text/x-python",
   "name": "python",
   "nbconvert_exporter": "python",
   "pygments_lexer": "ipython3",
   "version": "3.9.7"
  }
 },
 "nbformat": 4,
 "nbformat_minor": 1
}
